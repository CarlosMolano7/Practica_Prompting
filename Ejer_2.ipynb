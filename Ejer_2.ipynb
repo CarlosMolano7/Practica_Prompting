{
  "nbformat": 4,
  "nbformat_minor": 0,
  "metadata": {
    "colab": {
      "provenance": []
    },
    "kernelspec": {
      "name": "python3",
      "display_name": "Python 3"
    },
    "language_info": {
      "name": "python"
    }
  },
  "cells": [
    {
      "cell_type": "code",
      "execution_count": null,
      "metadata": {
        "colab": {
          "base_uri": "https://localhost:8080/"
        },
        "id": "Er67nmHDoQin",
        "outputId": "12ceb2ef-305f-48c5-cdbb-990aa56dd9f8"
      },
      "outputs": [
        {
          "output_type": "stream",
          "name": "stdout",
          "text": [
            "Collecting openai\n",
            "  Downloading openai-1.30.1-py3-none-any.whl (320 kB)\n",
            "\u001b[2K     \u001b[90m━━━━━━━━━━━━━━━━━━━━━━━━━━━━━━━━━━━━━━━━\u001b[0m \u001b[32m320.6/320.6 kB\u001b[0m \u001b[31m2.6 MB/s\u001b[0m eta \u001b[36m0:00:00\u001b[0m\n",
            "\u001b[?25hRequirement already satisfied: anyio<5,>=3.5.0 in /usr/local/lib/python3.10/dist-packages (from openai) (3.7.1)\n",
            "Requirement already satisfied: distro<2,>=1.7.0 in /usr/lib/python3/dist-packages (from openai) (1.7.0)\n",
            "Collecting httpx<1,>=0.23.0 (from openai)\n",
            "  Downloading httpx-0.27.0-py3-none-any.whl (75 kB)\n",
            "\u001b[2K     \u001b[90m━━━━━━━━━━━━━━━━━━━━━━━━━━━━━━━━━━━━━━━━\u001b[0m \u001b[32m75.6/75.6 kB\u001b[0m \u001b[31m3.7 MB/s\u001b[0m eta \u001b[36m0:00:00\u001b[0m\n",
            "\u001b[?25hRequirement already satisfied: pydantic<3,>=1.9.0 in /usr/local/lib/python3.10/dist-packages (from openai) (2.7.1)\n",
            "Requirement already satisfied: sniffio in /usr/local/lib/python3.10/dist-packages (from openai) (1.3.1)\n",
            "Requirement already satisfied: tqdm>4 in /usr/local/lib/python3.10/dist-packages (from openai) (4.66.4)\n",
            "Requirement already satisfied: typing-extensions<5,>=4.7 in /usr/local/lib/python3.10/dist-packages (from openai) (4.11.0)\n",
            "Requirement already satisfied: idna>=2.8 in /usr/local/lib/python3.10/dist-packages (from anyio<5,>=3.5.0->openai) (3.7)\n",
            "Requirement already satisfied: exceptiongroup in /usr/local/lib/python3.10/dist-packages (from anyio<5,>=3.5.0->openai) (1.2.1)\n",
            "Requirement already satisfied: certifi in /usr/local/lib/python3.10/dist-packages (from httpx<1,>=0.23.0->openai) (2024.2.2)\n",
            "Collecting httpcore==1.* (from httpx<1,>=0.23.0->openai)\n",
            "  Downloading httpcore-1.0.5-py3-none-any.whl (77 kB)\n",
            "\u001b[2K     \u001b[90m━━━━━━━━━━━━━━━━━━━━━━━━━━━━━━━━━━━━━━━━\u001b[0m \u001b[32m77.9/77.9 kB\u001b[0m \u001b[31m7.8 MB/s\u001b[0m eta \u001b[36m0:00:00\u001b[0m\n",
            "\u001b[?25hCollecting h11<0.15,>=0.13 (from httpcore==1.*->httpx<1,>=0.23.0->openai)\n",
            "  Downloading h11-0.14.0-py3-none-any.whl (58 kB)\n",
            "\u001b[2K     \u001b[90m━━━━━━━━━━━━━━━━━━━━━━━━━━━━━━━━━━━━━━━━\u001b[0m \u001b[32m58.3/58.3 kB\u001b[0m \u001b[31m6.3 MB/s\u001b[0m eta \u001b[36m0:00:00\u001b[0m\n",
            "\u001b[?25hRequirement already satisfied: annotated-types>=0.4.0 in /usr/local/lib/python3.10/dist-packages (from pydantic<3,>=1.9.0->openai) (0.6.0)\n",
            "Requirement already satisfied: pydantic-core==2.18.2 in /usr/local/lib/python3.10/dist-packages (from pydantic<3,>=1.9.0->openai) (2.18.2)\n",
            "Installing collected packages: h11, httpcore, httpx, openai\n",
            "Successfully installed h11-0.14.0 httpcore-1.0.5 httpx-0.27.0 openai-1.30.1\n"
          ]
        }
      ],
      "source": [
        "!pip install openai"
      ]
    },
    {
      "cell_type": "code",
      "source": [
        "from openai import OpenAI\n",
        "\n",
        "openai_api_key = 'your key'\n",
        "\n",
        "# Función para generar el resumen\n",
        "def generar_resumen(texto):\n",
        "    client = OpenAI(api_key = openai_api_key)\n",
        "\n",
        "    respuesta = client.chat.completions.create(\n",
        "        model=\"gpt-3.5-turbo\",\n",
        "        messages=[\n",
        "            {\"role\": \"system\", \"content\": \"\"\"Eres un modelo avanzado de procesamiento de lenguaje natural especializado en resumir textos.\n",
        "                                          Tu tarea es leer un texto proporcionado y generar un resumen conciso que capture los puntos clave e ideas principales.\n",
        "                                          Asegúrate de que el resumen sea claro, coherente y fácil de entender. Sigue estas pautas:\n",
        "                                          Identifica las ideas principales: Extrae las ideas más importantes y relevantes del texto original.\n",
        "                                          Omite detalles secundarios: No incluyas información que no sea crucial para la comprensión del contenido general.\n",
        "                                          Usa un lenguaje claro y conciso: Asegúrate de que el resumen sea fácil de leer y comprender, utilizando frases simples y directas.\n",
        "                                          Mantén la coherencia: Asegúrate de que el resumen tenga un flujo lógico y que las oraciones estén bien conectadas.\n",
        "                                          Proporcionalidad: Ajusta la longitud del resumen en función de la longitud del texto original, buscando una relación equilibrada.\"\"\"},\n",
        "\n",
        "            {\"role\": \"user\", \"content\": f\"A continuación, se te proporcionará un texto para que lo resumas según las pautas anteriores:\\n\\n{texto}\"}\n",
        "        ],\n",
        "        temperature=0.7\n",
        "    )\n",
        "    resumen = respuesta.choices[0].message.content\n",
        "    # Dividir el resumen en varias líneas\n",
        "    resumen_dividido = resumen.split(\". \")\n",
        "    return resumen_dividido\n",
        "\n",
        "\n",
        "# Función para extraer puntos clave\n",
        "def extraer_puntos_clave(texto):\n",
        "    client = OpenAI(api_key = openai_api_key)\n",
        "\n",
        "    respuesta = client.chat.completions.create(\n",
        "        model=\"gpt-3.5-turbo\",\n",
        "        messages=[\n",
        "            {\"role\": \"system\", \"content\": \"\"\"Eres un modelo avanzado de procesamiento de lenguaje natural especializado en la extracción de puntos clave de textos.\n",
        "                                              Tu tarea es leer un texto proporcionado y extraer los puntos más importantes y relevantes.\n",
        "                                              Asegúrate de que los puntos clave sean claros, concisos y representen fielmente el contenido esencial del texto. Sigue estas pautas:\n",
        "                                              Identifica las ideas principales: Extrae las ideas más significativas y relevantes del texto.\n",
        "                                              Sé específico y directo: Cada punto clave debe ser una oración o frase corta que resuma una idea importante.\n",
        "                                              Omite detalles secundarios: No incluyas información que no sea crucial para la comprensión del contenido principal.\n",
        "                                              Usa un lenguaje claro: Asegúrate de que cada punto clave sea fácil de leer y entender.\n",
        "                                              Mantén la coherencia: Los puntos clave deben tener sentido en conjunto y reflejar la estructura lógica del texto original.\n",
        "                                              Debes ser muy breve.\"\"\"},\n",
        "\n",
        "            {\"role\": \"user\", \"content\": f\"A continuación, se te proporcionará un texto para que extraigas los puntos clave según las pautas anteriores, de manera muy breve:\\n\\n{texto}\"}\n",
        "        ],\n",
        "        temperature=0.7\n",
        "    )\n",
        "    puntos_clave = respuesta.choices[0].message.content\n",
        "    return puntos_clave"
      ],
      "metadata": {
        "id": "Nai71lrIoYwG"
      },
      "execution_count": null,
      "outputs": []
    },
    {
      "cell_type": "code",
      "source": [
        "# Texto de prueba\n",
        "texto_de_prueba = \"\"\"\n",
        "La Revolución Industrial fue un período de grandes cambios económicos, tecnológicos y sociales que comenzó en Inglaterra a mediados del siglo XVIII y se extendió a otros países durante el siglo XIX.\n",
        " Este período se caracterizó por la transición de una economía agraria y artesanal a una economía industrializada y mecanizada. La invención de máquinas como la máquina de vapor y la mejora en los\n",
        " procesos de producción, como la hilatura y el tejido, fueron factores clave que impulsaron estos cambios.\n",
        "\n",
        "La Revolución Industrial tuvo un impacto significativo en la sociedad. Por un lado, se produjo un aumento de la producción y la eficiencia, lo que llevó a una mayor disponibilidad de bienes y a una\n",
        "reducción de los costos. Esto mejoró el nivel de vida de muchas personas. Por otro lado, la rápida urbanización y el crecimiento de las fábricas trajeron consigo condiciones laborales difíciles,\n",
        "como largas jornadas de trabajo, salarios bajos y entornos de trabajo peligrosos. Además, el aumento de la población urbana llevó a problemas de vivienda, saneamiento y salud pública.\n",
        "\n",
        "Los cambios tecnológicos también impulsaron la expansión de las redes de transporte y comunicación. La construcción de ferrocarriles y canales facilitó el movimiento de mercancías y personas,\n",
        "y la invención del telégrafo revolucionó la comunicación a larga distancia. Estos avances contribuyeron a la globalización y al crecimiento del comercio internacional.\n",
        "\"\"\"\n",
        "\n",
        "# Generar y mostrar el resumen y los puntos clave del texto de prueba\n",
        "resumen_dividido = generar_resumen(texto_de_prueba)\n",
        "puntos_clave = extraer_puntos_clave(texto_de_prueba)\n",
        "\n",
        "print(\"Texto Original:\\n\", texto_de_prueba)\n",
        "print(\"Resumen dividido por puntos:\") #lo he dividido por puntos ya que el resumen quedaba en una sola linea bastante larga, aunque me ha eliminado los puntos seguidos.\n",
        "for linea in resumen_dividido:\n",
        "    print(linea)\n",
        "print(\"\\nPuntos Clave:\\n\", puntos_clave)"
      ],
      "metadata": {
        "colab": {
          "base_uri": "https://localhost:8080/"
        },
        "id": "vvXGtYfnoZJX",
        "outputId": "d1e5a226-a7a1-4d18-f13e-9aadf36deda3"
      },
      "execution_count": null,
      "outputs": [
        {
          "output_type": "stream",
          "name": "stdout",
          "text": [
            "Texto Original:\n",
            " \n",
            "La Revolución Industrial fue un período de grandes cambios económicos, tecnológicos y sociales que comenzó en Inglaterra a mediados del siglo XVIII y se extendió a otros países durante el siglo XIX.\n",
            " Este período se caracterizó por la transición de una economía agraria y artesanal a una economía industrializada y mecanizada. La invención de máquinas como la máquina de vapor y la mejora en los \n",
            " procesos de producción, como la hilatura y el tejido, fueron factores clave que impulsaron estos cambios.\n",
            "\n",
            "La Revolución Industrial tuvo un impacto significativo en la sociedad. Por un lado, se produjo un aumento de la producción y la eficiencia, lo que llevó a una mayor disponibilidad de bienes y a una \n",
            "reducción de los costos. Esto mejoró el nivel de vida de muchas personas. Por otro lado, la rápida urbanización y el crecimiento de las fábricas trajeron consigo condiciones laborales difíciles, \n",
            "como largas jornadas de trabajo, salarios bajos y entornos de trabajo peligrosos. Además, el aumento de la población urbana llevó a problemas de vivienda, saneamiento y salud pública.\n",
            "\n",
            "Los cambios tecnológicos también impulsaron la expansión de las redes de transporte y comunicación. La construcción de ferrocarriles y canales facilitó el movimiento de mercancías y personas, \n",
            "y la invención del telégrafo revolucionó la comunicación a larga distancia. Estos avances contribuyeron a la globalización y al crecimiento del comercio internacional.\n",
            "\n",
            "Resumen dividido por puntos:\n",
            "La Revolución Industrial, que comenzó en Inglaterra en el siglo XVIII, marcó la transición hacia una economía industrializada gracias a la invención de máquinas como la de vapor\n",
            "Aunque aumentó la producción y eficiencia, también trajo consigo condiciones laborales difíciles y problemas sociales como la rápida urbanización\n",
            "Los cambios tecnológicos, como los ferrocarriles y el telégrafo, impulsaron la expansión de las redes de transporte y comunicación, contribuyendo a la globalización y al comercio internacional.\n",
            "\n",
            "Puntos Clave:\n",
            " 1. La Revolución Industrial fue un periodo de cambios económicos, tecnológicos y sociales que inició en Inglaterra en el siglo XVIII y se expandió por otros países en el XIX.\n",
            "2. La transición de una economía agraria a una industrializada fue impulsada por la invención de máquinas como la máquina de vapor y avances en la producción.\n",
            "3. La Revolución Industrial aumentó la eficiencia y la disponibilidad de bienes, mejorando el nivel de vida, pero también trajo condiciones laborales difíciles y problemas sociales.\n",
            "4. La expansión de las redes de transporte y comunicación, como ferrocarriles y el telégrafo, contribuyeron a la globalización y al comercio internacional.\n"
          ]
        }
      ]
    },
    {
      "cell_type": "code",
      "source": [],
      "metadata": {
        "id": "eMcUuuDjoZgJ"
      },
      "execution_count": null,
      "outputs": []
    }
  ]
}